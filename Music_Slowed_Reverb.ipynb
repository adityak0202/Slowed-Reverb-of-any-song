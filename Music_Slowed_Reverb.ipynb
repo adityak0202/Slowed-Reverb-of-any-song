{
 "cells": [
  {
   "cell_type": "code",
   "execution_count": 1,
   "id": "b67193bc-ce9a-438e-b963-c075329fda2f",
   "metadata": {},
   "outputs": [],
   "source": [
    "import librosa\n",
    "import soundfile as sf\n",
    "\n",
    "import pyroomacoustics as pra\n",
    "import numpy as np"
   ]
  },
  {
   "cell_type": "code",
   "execution_count": 2,
   "id": "4cd847ae-b41b-4d96-b3bc-6bb95937a3c7",
   "metadata": {},
   "outputs": [
    {
     "name": "stdin",
     "output_type": "stream",
     "text": [
      "Enter the tempo factor (e.g., 0.5 to slow down, 1.5 to speed up):  0.75\n"
     ]
    },
    {
     "name": "stdout",
     "output_type": "stream",
     "text": [
      "Tempo-reduced audio saved as: SLOWED_Juice WRLD - Home ft. XXXTENTACION (Music Video).mp3\n"
     ]
    }
   ],
   "source": [
    "def reduce_tempo(file_path, output_path, tempo_factor=0.75):\n",
    "    y, sr = librosa.load(file_path)\n",
    "    \n",
    "    y_slow = librosa.effects.time_stretch(y, rate=tempo_factor)\n",
    "    \n",
    "    sf.write(output_path, y_slow, sr)\n",
    "    print(f\"Tempo-reduced audio saved as: {output_path}\")\n",
    "\n",
    "input_file = 'Juice WRLD - Home ft. XXXTENTACION (Music Video).mp3'\n",
    "output_file = 'SLOWED_' + input_file\n",
    "\n",
    "tempo_factor = float(input(\"Enter the tempo factor (e.g., 0.5 to slow down, 1.5 to speed up): \"))\n",
    "\n",
    "reduce_tempo(input_file, output_file, tempo_factor)"
   ]
  },
  {
   "cell_type": "code",
   "execution_count": 3,
   "id": "18adb3e1-b433-442e-acd9-f2df2ca13627",
   "metadata": {},
   "outputs": [],
   "source": [
    "def apply_reverb(input_file, output_file, reverb_time=0.6):\n",
    "    y, sr = librosa.load(input_file, sr=None)\n",
    "    \n",
    "    # We shall create a room with reverberation (simple shoebox model)\n",
    "    room_dim = [10, 7, 3]\n",
    "    \n",
    "    room = pra.ShoeBox(room_dim, fs=sr, max_order=10, absorption=0.3)\n",
    "    \n",
    "    room.rt60 = reverb_time\n",
    "    \n",
    "    room.add_source([2, 3, 1], signal=y)\n",
    "    \n",
    "    room.add_microphone([8, 6, 1])\n",
    "    \n",
    "    room.simulate()\n",
    "    \n",
    "    y_reverb = room.mic_array.signals[0, :]\n",
    "    y_reverb = y_reverb / np.max(np.abs(y_reverb))\n",
    "    sf.write(output_file, y_reverb, sr)\n",
    "    \n",
    "    print(f\"Reverb-applied audio saved to: {output_file}\")"
   ]
  },
  {
   "cell_type": "code",
   "execution_count": 4,
   "id": "160ac386-ba52-4afa-a6de-abdf8948584a",
   "metadata": {},
   "outputs": [
    {
     "name": "stdin",
     "output_type": "stream",
     "text": [
      "Enter the reverb time (in seconds. Exampl: 0.6):  0.85\n"
     ]
    },
    {
     "name": "stdout",
     "output_type": "stream",
     "text": [
      "Reverb-applied audio saved to: REVERB_SLOWED_Juice WRLD - Home ft. XXXTENTACION (Music Video).mp3\n"
     ]
    }
   ],
   "source": [
    "# Input the file path to your audio file and output path\n",
    "input_file = output_file\n",
    "output_file = 'REVERB_' + output_file\n",
    "\n",
    "reverb_time = float(input(\"Enter the reverb time (in seconds. Exampl: 0.6): \"))\n",
    "\n",
    "apply_reverb(input_file, output_file, reverb_time)"
   ]
  },
  {
   "cell_type": "code",
   "execution_count": 5,
   "id": "1bf89660-46ef-4c2d-bdba-78f1ce8cb28b",
   "metadata": {},
   "outputs": [
    {
     "name": "stdout",
     "output_type": "stream",
     "text": [
      "pygame 2.6.0 (SDL 2.28.4, Python 3.12.6)\n",
      "Hello from the pygame community. https://www.pygame.org/contribute.html\n"
     ]
    },
    {
     "name": "stdin",
     "output_type": "stream",
     "text": [
      "Enter 'pause' to pause, 'resume' to resume, 'stop' to stop the music:  stop\n"
     ]
    },
    {
     "name": "stdout",
     "output_type": "stream",
     "text": [
      "Music stopped.\n"
     ]
    },
    {
     "name": "stdout",
     "output_type": "stream",
     "text": [
      "Music paused.\n"
     ]
    },
    {
     "name": "stdout",
     "output_type": "stream",
     "text": [
      "Enter 'pause' to pause, 'resume' to resume, 'stop' to stop the music:  resume\n"
     ]
    },
    {
     "name": "stdout",
     "output_type": "stream",
     "text": [
      "Music resumed.\n"
     ]
    },
    {
     "name": "stdout",
     "output_type": "stream",
     "text": [
      "Enter 'pause' to pause, 'resume' to resume, 'stop' to stop the music:  stop\n"
     ]
    },
    {
     "name": "stdout",
     "output_type": "stream",
     "text": [
      "Music stopped.\n"
     ]
    }
   ],
   "source": [
    "import pygame\n",
    "\n",
    "pygame.mixer.init()\n",
    "def play_audio(file_path):\n",
    "    pygame.mixer.music.load(file_path)\n",
    "    pygame.mixer.music.play()\n",
    "\n",
    "file_path = 'REVERB_SLOWED_Juice WRLD - Home ft. XXXTENTACION (Music Video).mp3'\n",
    "\n",
    "play_audio(file_path)\n",
    "\n",
    "while True:\n",
    "    action = input(\"Enter 'pause' to pause, 'resume' to resume, 'stop' to stop the music: \").lower()\n",
    "    \n",
    "    if action == 'pause':\n",
    "        pygame.mixer.music.pause()\n",
    "        print(\"Music paused.\")\n",
    "    \n",
    "    elif action == 'resume':\n",
    "        pygame.mixer.music.unpause()\n",
    "        print(\"Music resumed.\")\n",
    "    elif action == 'stop':\n",
    "        pygame.mixer.music.stop()\n",
    "        print(\"Music stopped.\")\n",
    "        break\n",
    "    \n",
    "    else:\n",
    "        print(\"Invalid input. Please enter 'pause', 'resume', or 'stop'.\")\n"
   ]
  },
  {
   "cell_type": "code",
   "execution_count": null,
   "id": "0673fd20-240e-45cc-9390-1f58d2ab6513",
   "metadata": {},
   "outputs": [],
   "source": []
  }
 ],
 "metadata": {
  "kernelspec": {
   "display_name": "Python 3 (ipykernel)",
   "language": "python",
   "name": "python3"
  },
  "language_info": {
   "codemirror_mode": {
    "name": "ipython",
    "version": 3
   },
   "file_extension": ".py",
   "mimetype": "text/x-python",
   "name": "python",
   "nbconvert_exporter": "python",
   "pygments_lexer": "ipython3",
   "version": "3.12.6"
  }
 },
 "nbformat": 4,
 "nbformat_minor": 5
}
